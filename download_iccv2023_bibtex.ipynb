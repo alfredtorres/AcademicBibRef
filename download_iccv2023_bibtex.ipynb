{
 "cells": [
  {
   "cell_type": "code",
   "execution_count": 26,
   "metadata": {},
   "outputs": [],
   "source": [
    "import sys\n",
    "import requests\n",
    "import urllib\n",
    "from bs4 import BeautifulSoup\n",
    "import bibtexparser"
   ]
  },
  {
   "cell_type": "code",
   "execution_count": 25,
   "metadata": {},
   "outputs": [
    {
     "name": "stdout",
     "output_type": "stream",
     "text": [
      "Looking in indexes: https://pypi.tuna.tsinghua.edu.cn/simple\n",
      "Collecting bibtexparser\n",
      "  Downloading https://pypi.tuna.tsinghua.edu.cn/packages/25/06/f710a276e4e018b02fe17b39313629213a43c365401179bc437e0ab24425/bibtexparser-1.4.1.tar.gz (55 kB)\n",
      "\u001b[K     |████████████████████████████████| 55 kB 1.2 MB/s eta 0:00:011\n",
      "\u001b[?25hRequirement already satisfied: pyparsing>=2.0.3 in /Users/zzy/opt/anaconda3/lib/python3.7/site-packages (from bibtexparser) (2.4.6)\n",
      "Building wheels for collected packages: bibtexparser\n",
      "  Building wheel for bibtexparser (setup.py) ... \u001b[?25ldone\n",
      "\u001b[?25h  Created wheel for bibtexparser: filename=bibtexparser-1.4.1-py3-none-any.whl size=43264 sha256=8dd542efc793a3b2be64cf300111c8714751890e0527564262b0825160a36c31\n",
      "  Stored in directory: /Users/zzy/Library/Caches/pip/wheels/b4/2b/ce/47915f0be7fc93e4d97533098d63a5c7cfc4bed96ed56f94e8\n",
      "Successfully built bibtexparser\n",
      "Installing collected packages: bibtexparser\n",
      "Successfully installed bibtexparser-1.4.1\n"
     ]
    }
   ],
   "source": [
    "!pip install bibtexparser"
   ]
  },
  {
   "cell_type": "code",
   "execution_count": 28,
   "metadata": {},
   "outputs": [],
   "source": [
    "# ICCV 2023网站链接\n",
    "url = \"https://openaccess.thecvf.com/ICCV2023?day=all\"\n",
    "\n",
    "# 发送请求获取网页内容\n",
    "response = requests.get(url)\n",
    "soup = BeautifulSoup(response.text, 'html5lib')\n",
    "\n",
    "# 查找所有文章\n",
    "papers = soup.find_all(attrs={'class': 'bibref'})"
   ]
  },
  {
   "cell_type": "code",
   "execution_count": 30,
   "metadata": {},
   "outputs": [
    {
     "name": "stdout",
     "output_type": "stream",
     "text": [
      "2156\n",
      "<div class=\"bibref pre-white-space\">@InProceedings{Han_2023_ICCV,\n",
      "    author    = {Han, Sungwon and Park, Sungwon and Wu, Fangzhao and Kim, Sundong and Zhu, Bin and Xie, Xing and Cha, Meeyoung},\n",
      "    title     = {Towards Attack-tolerant Federated Learning via Critical Parameter Analysis},\n",
      "    booktitle = {Proceedings of the IEEE/CVF International Conference on Computer Vision (ICCV)},\n",
      "    month     = {October},\n",
      "    year      = {2023},\n",
      "    pages     = {4999-5008}\n",
      "}</div>\n"
     ]
    }
   ],
   "source": [
    "print(len(papers))\n",
    "print(papers[0])"
   ]
  },
  {
   "cell_type": "code",
   "execution_count": 32,
   "metadata": {},
   "outputs": [
    {
     "name": "stdout",
     "output_type": "stream",
     "text": [
      "所有文章的Bibtex已保存到iccv2023_bibtex.txt文件中！\n"
     ]
    }
   ],
   "source": [
    "# 创建存储Bibtex的文本文件\n",
    "with open(\"iccv2023_bibtex.txt\", \"w\", encoding='utf-8') as f:\n",
    "    # 遍历文章并获取Bibtex\n",
    "    for paper in papers:\n",
    "        bib_data = bibtexparser.loads(paper.text.replace('<br>', \"\").strip())\n",
    "        f.write(bibtexparser.dumps(bib_data))\n",
    "#         title = paper.find('a').text.strip()\n",
    "\n",
    "#         # 获取文章详情页面链接\n",
    "#         paper_link = 'https://openaccess.thecvf.com/' + paper.find('a')['href']\n",
    "#         print(paper_link)\n",
    "#         # 发送请求获取文章详情页面内容\n",
    "#         paper_response = requests.get(paper_link)\n",
    "#         paper_soup = BeautifulSoup(paper_response.text, '')\n",
    "#         print(paper_soup)\n",
    "\n",
    "#         # 查找Bibtex标签\n",
    "#         bibtex_tag = paper_soup.find_all(attrs={'class': 'bibref'})\n",
    "#         print(bibtex_tag)\n",
    "#         sys.exit()\n",
    "\n",
    "        # 如果找到Bibtex标签，则将其写入文件\n",
    "#         if bibtex_tag is not None:\n",
    "#             bibtex = bibtex_tag.text.strip()\n",
    "#             file.write(f\"Title: {title}\\n\")\n",
    "#             file.write(f\"{bibtex}\\n\\n\")\n",
    "#             print(f\"已获取文章：{title} 的Bibtex\")\n",
    "\n",
    "print(\"所有文章的Bibtex已保存到iccv2023_bibtex.txt文件中！\")"
   ]
  },
  {
   "cell_type": "code",
   "execution_count": null,
   "metadata": {},
   "outputs": [],
   "source": []
  }
 ],
 "metadata": {
  "kernelspec": {
   "display_name": "Python 3",
   "language": "python",
   "name": "python3"
  },
  "language_info": {
   "codemirror_mode": {
    "name": "ipython",
    "version": 3
   },
   "file_extension": ".py",
   "mimetype": "text/x-python",
   "name": "python",
   "nbconvert_exporter": "python",
   "pygments_lexer": "ipython3",
   "version": "3.7.6"
  }
 },
 "nbformat": 4,
 "nbformat_minor": 4
}
